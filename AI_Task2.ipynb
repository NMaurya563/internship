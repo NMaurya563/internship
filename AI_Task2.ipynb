{
  "nbformat": 4,
  "nbformat_minor": 0,
  "metadata": {
    "colab": {
      "provenance": [],
      "authorship_tag": "ABX9TyNBcVY8dwswGYcUmSzjb9FL",
      "include_colab_link": true
    },
    "kernelspec": {
      "name": "python3",
      "display_name": "Python 3"
    },
    "language_info": {
      "name": "python"
    }
  },
  "cells": [
    {
      "cell_type": "markdown",
      "metadata": {
        "id": "view-in-github",
        "colab_type": "text"
      },
      "source": [
        "<a href=\"https://colab.research.google.com/github/NMaurya563/internship/blob/main/AI_Task2.ipynb\" target=\"_parent\"><img src=\"https://colab.research.google.com/assets/colab-badge.svg\" alt=\"Open In Colab\"/></a>"
      ]
    },
    {
      "cell_type": "code",
      "execution_count": null,
      "metadata": {
        "id": "NmGZ4mbD-9nW"
      },
      "outputs": [],
      "source": [
        "# ✅ Step 1: Install necessary libraries\n",
        "!pip install transformers torchaudio librosa --quiet\n",
        "\n",
        "# ✅ Step 2: Import required libraries\n",
        "import torch\n",
        "import torchaudio\n",
        "import librosa\n",
        "from transformers import Wav2Vec2ForCTC, Wav2Vec2Tokenizer\n",
        "from IPython.display import Audio\n",
        "\n",
        "# ✅ Step 3: Load pre-trained model and tokenizer\n",
        "model_name = \"facebook/wav2vec2-base-960h\"\n",
        "tokenizer = Wav2Vec2Tokenizer.from_pretrained(model_name)\n",
        "model = Wav2Vec2ForCTC.from_pretrained(model_name)\n",
        "\n",
        "# ✅ Step 4: Function to transcribe audio\n",
        "def transcribe_audio(file_path):\n",
        "    # Load and resample the audio\n",
        "    speech_array, sampling_rate = librosa.load(file_path, sr=16000)\n",
        "    input_values = tokenizer(speech_array, return_tensors=\"pt\", padding=\"longest\").input_values\n",
        "\n",
        "    # Get logits from model\n",
        "    with torch.no_grad():\n",
        "        logits = model(input_values).logits\n",
        "\n",
        "    # Get predicted IDs and decode to text\n",
        "    predicted_ids = torch.argmax(logits, dim=-1)\n",
        "    transcription = tokenizer.decode(predicted_ids[0])\n",
        "\n",
        "    print(\"\\n🎙️ Transcribed Text:\\n\", transcription)\n",
        "\n",
        "# ✅ Step 5: Upload and test an audio file\n",
        "from google.colab import files\n",
        "uploaded = files.upload()\n",
        "\n",
        "for file in uploaded.keys():\n",
        "    print(\"\\n🔊 Playing uploaded audio:\")\n",
        "    display(Audio(file))\n",
        "    transcribe_audio(file)\n"
      ]
    }
  ]
}