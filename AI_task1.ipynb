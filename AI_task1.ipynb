{
  "nbformat": 4,
  "nbformat_minor": 0,
  "metadata": {
    "colab": {
      "provenance": [],
      "authorship_tag": "ABX9TyNQ1dwyABl4HNZEH8h7Hb2Z",
      "include_colab_link": true
    },
    "kernelspec": {
      "name": "python3",
      "display_name": "Python 3"
    },
    "language_info": {
      "name": "python"
    }
  },
  "cells": [
    {
      "cell_type": "markdown",
      "metadata": {
        "id": "view-in-github",
        "colab_type": "text"
      },
      "source": [
        "<a href=\"https://colab.research.google.com/github/NMaurya563/internship/blob/main/AI_task1.ipynb\" target=\"_parent\"><img src=\"https://colab.research.google.com/assets/colab-badge.svg\" alt=\"Open In Colab\"/></a>"
      ]
    },
    {
      "cell_type": "code",
      "execution_count": null,
      "metadata": {
        "id": "RZVmddbB_ZdL"
      },
      "outputs": [],
      "source": [
        "# ✅ STEP 1: Install required libraries\n",
        "!pip install transformers sentencepiece --quiet\n",
        "\n",
        "# ✅ STEP 2: Import libraries\n",
        "from transformers import pipeline\n",
        "\n",
        "# ✅ STEP 3: Load the summarization pipeline\n",
        "summarizer = pipeline(\"summarization\", model=\"t5-small\", tokenizer=\"t5-small\")\n",
        "\n",
        "# ✅ STEP 4: Define a function for summarization\n",
        "def summarize_text(text, max_length=100, min_length=30):\n",
        "    print(\"\\n📝 Original Text:\\n\")\n",
        "    print(text)\n",
        "    summary = summarizer(\"summarize: \" + text, max_length=max_length, min_length=min_length, do_sample=False)\n",
        "    print(\"\\n✅ Summary:\\n\")\n",
        "    print(summary[0]['summary_text'])\n",
        "\n",
        "# ✅ STEP 5: Try with an example article/text\n",
        "sample_text = \"\"\"\n",
        "The Internet has revolutionized the way we communicate, work, and access information.\n",
        "With the advent of social media platforms, communication has become more interactive and instantaneous.\n",
        "People can now connect with friends and family around the world, share updates, photos, and videos, and even build professional networks.\n",
        "Moreover, online education and remote work have become increasingly popular, especially in the wake of the COVID-19 pandemic.\n",
        "This shift has highlighted the importance of digital literacy and reliable internet access for all.\n",
        "\"\"\"\n",
        "\n",
        "summarize_text(sample_text)\n"
      ]
    }
  ]
}