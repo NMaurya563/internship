{
  "nbformat": 4,
  "nbformat_minor": 0,
  "metadata": {
    "colab": {
      "provenance": [],
      "authorship_tag": "ABX9TyNJnFGSnBCM2sKorMeiKZda",
      "include_colab_link": true
    },
    "kernelspec": {
      "name": "python3",
      "display_name": "Python 3"
    },
    "language_info": {
      "name": "python"
    }
  },
  "cells": [
    {
      "cell_type": "markdown",
      "metadata": {
        "id": "view-in-github",
        "colab_type": "text"
      },
      "source": [
        "<a href=\"https://colab.research.google.com/github/NMaurya563/internship/blob/main/AI_Task4.ipynb\" target=\"_parent\"><img src=\"https://colab.research.google.com/assets/colab-badge.svg\" alt=\"Open In Colab\"/></a>"
      ]
    },
    {
      "cell_type": "code",
      "execution_count": null,
      "metadata": {
        "id": "7R5XkXN9_-8V"
      },
      "outputs": [],
      "source": [
        "# ✅ STEP 1: Install required libraries\n",
        "!pip install transformers --quiet\n",
        "\n",
        "# ✅ STEP 2: Import required modules\n",
        "from transformers import GPT2LMHeadModel, GPT2Tokenizer\n",
        "import torch\n",
        "\n",
        "# ✅ STEP 3: Load pre-trained GPT-2 model and tokenizer\n",
        "model_name = 'gpt2'  # Can also use 'gpt2-medium', 'gpt2-large', etc.\n",
        "tokenizer = GPT2Tokenizer.from_pretrained(model_name)\n",
        "model = GPT2LMHeadModel.from_pretrained(model_name)\n",
        "model.eval()\n",
        "if torch.cuda.is_available():\n",
        "    model.to('cuda')\n",
        "\n",
        "# ✅ STEP 4: Define text generation function\n",
        "def generate_text(prompt, max_length=100):\n",
        "    print(f\"\\n📝 Prompt: {prompt}\\n\")\n",
        "\n",
        "    inputs = tokenizer.encode(prompt, return_tensors='pt')\n",
        "    if torch.cuda.is_available():\n",
        "        inputs = inputs.to('cuda')\n",
        "\n",
        "    # Generate text\n",
        "    output = model.generate(\n",
        "        inputs,\n",
        "        max_length=max_length,\n",
        "        num_return_sequences=1,\n",
        "        no_repeat_ngram_size=2,\n",
        "        temperature=0.7,\n",
        "        top_k=50,\n",
        "        top_p=0.95,\n",
        "        do_sample=True,\n",
        "        early_stopping=True\n",
        "    )\n",
        "\n",
        "    generated_text = tokenizer.decode(output[0], skip_special_tokens=True)\n",
        "    print(\"📄 Generated Text:\\n\")\n",
        "    print(generated_text)\n",
        "\n",
        "# ✅ STEP 5: Try it out with a custom prompt\n",
        "generate_text(\"The future of artificial intelligence in education\")\n"
      ]
    }
  ]
}